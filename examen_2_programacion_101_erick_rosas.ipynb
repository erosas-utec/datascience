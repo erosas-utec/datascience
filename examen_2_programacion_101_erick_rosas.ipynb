{
  "nbformat": 4,
  "nbformat_minor": 0,
  "metadata": {
    "colab": {
      "provenance": [],
      "toc_visible": true,
      "authorship_tag": "ABX9TyMdWheN9i2RicCh1kwhdhxV",
      "include_colab_link": true
    },
    "kernelspec": {
      "name": "python3",
      "display_name": "Python 3"
    },
    "language_info": {
      "name": "python"
    }
  },
  "cells": [
    {
      "cell_type": "markdown",
      "metadata": {
        "id": "view-in-github",
        "colab_type": "text"
      },
      "source": [
        "<a href=\"https://colab.research.google.com/github/erosas-utec/datascience/blob/main/examen_2_programacion_101_erick_rosas.ipynb\" target=\"_parent\"><img src=\"https://colab.research.google.com/assets/colab-badge.svg\" alt=\"Open In Colab\"/></a>"
      ]
    },
    {
      "cell_type": "markdown",
      "source": [
        "1. Catálogo de contenido (Listas y tuplas)"
      ],
      "metadata": {
        "id": "-eLqt3PcwpOD"
      }
    },
    {
      "cell_type": "code",
      "execution_count": null,
      "metadata": {
        "colab": {
          "base_uri": "https://localhost:8080/"
        },
        "id": "QRFcvjPnvuIW",
        "outputId": "88490980-f118-43fe-c456-b79903de6883"
      },
      "outputs": [
        {
          "output_type": "stream",
          "name": "stdout",
          "text": [
            "['AI Rebellion', 'Breaking Python', 'Data Science 101', 'Machine Love', 'Neural Networks']\n"
          ]
        }
      ],
      "source": [
        "catalogo_popular = (\"Breaking Python\", \"Data Science 101\", \"Machine Love\", \"Debug Wars\")\n",
        "\n",
        "#convertir la tupla en lista\n",
        "catalogo_lista = list(catalogo_popular)\n",
        "\n",
        "#agregar una nueva serie\n",
        "catalogo_lista.append(\"Neural Networks\")\n",
        "\n",
        "#reemplazar \"Debug Wars\" por \"AI Rebellion\"\n",
        "indice = catalogo_lista.index(\"Debug Wars\")\n",
        "catalogo_lista[indice] = \"AI Rebellion\"\n",
        "\n",
        "#ordenar la lista alfabéticamente\n",
        "catalogo_lista.sort()\n",
        "\n",
        "print(catalogo_lista)\n"
      ]
    },
    {
      "cell_type": "markdown",
      "source": [
        "2. Filtrado de géneros (Slicing)"
      ],
      "metadata": {
        "id": "0TGoItCcxvVd"
      }
    },
    {
      "cell_type": "code",
      "source": [
        "generos = [\"Drama\", \"Comedia\", \"Acción\", \"Sci-Fi\", \"Documental\", \"Terror\", \"Romance\"]\n",
        "\n",
        "\n",
        "#slicing que obtenga los géneros del medio\n",
        "n = len(generos)\n",
        "if n % 2 == 1:\n",
        "    medio = [generos[n//2]]  # Impar: solo uno del medio\n",
        "else:\n",
        "    medio = generos[n//2 - 1 : n//2 + 1]      # Par: dos del medio\n",
        "print(\"Géneros del medio:\", medio)\n",
        "\n",
        "\n",
        "#slicing para obtener los tres primeros géneros\n",
        "primeros = generos[:3]\n",
        "print(\"Tres primeros géneros:\", primeros)\n",
        "\n",
        "\n",
        "#géneros en orden inverso (usando slicing)\n",
        "ord_inverso = generos[::-1]\n",
        "print(\"Géneros en orden inverso:\", ord_inverso)\n",
        "\n"
      ],
      "metadata": {
        "colab": {
          "base_uri": "https://localhost:8080/"
        },
        "id": "-WcdZL-YxwJB",
        "outputId": "9ff98542-a8ed-408e-eb31-9db41c049bc5"
      },
      "execution_count": null,
      "outputs": [
        {
          "output_type": "stream",
          "name": "stdout",
          "text": [
            "Géneros del medio: ['Sci-Fi']\n",
            "Tres primeros géneros: ['Drama', 'Comedia', 'Acción']\n",
            "Géneros en orden inverso: ['Romance', 'Terror', 'Documental', 'Sci-Fi', 'Acción', 'Comedia', 'Drama']\n"
          ]
        }
      ]
    },
    {
      "cell_type": "markdown",
      "source": [
        "3. Puntajes de usuarios (Listas por comprensión)"
      ],
      "metadata": {
        "id": "IO-VTBz41IAc"
      }
    },
    {
      "cell_type": "code",
      "source": [
        "ratings = [4.5, 3.0, 5.0, 2.5, 4.0, 1.5]\n",
        "\n",
        "#uuna lista con solo los ratings mayores a 3.5\n",
        "mayores_a_35 = [r for r in ratings if r > 3.5]\n",
        "print(mayores_a_35)\n",
        "\n",
        "#una lista con los ratings convertidos a una escala del 1 al 100\n",
        "escala_100 = [r * 20 for r in ratings]\n",
        "print(escala_100)\n",
        "\n",
        "#una lista de strings que diga \"Alta\" si rating > 4, \"Media\" si entre 3 y 4, \"Baja\" si menor\n",
        "nivel = [\"Alta\" if r > 4 else \"Media\" if r >= 3 else \"Baja\" for r in ratings]\n",
        "print(nivel)\n"
      ],
      "metadata": {
        "colab": {
          "base_uri": "https://localhost:8080/"
        },
        "id": "l9c4AbjZ06F1",
        "outputId": "552e062a-cf29-4168-eb7a-7236698906a5"
      },
      "execution_count": null,
      "outputs": [
        {
          "output_type": "stream",
          "name": "stdout",
          "text": [
            "[4.5, 5.0, 4.0]\n",
            "[90.0, 60.0, 100.0, 50.0, 80.0, 30.0]\n",
            "['Alta', 'Media', 'Alta', 'Baja', 'Media', 'Baja']\n"
          ]
        }
      ]
    },
    {
      "cell_type": "markdown",
      "source": [
        "4. Historial de visualización (Diccionarios)"
      ],
      "metadata": {
        "id": "4yqIghMk1z-F"
      }
    },
    {
      "cell_type": "code",
      "source": [
        "historial = {\n",
        "    \"Breaking Python\": 3,\n",
        "    \"Machine Love\": 5,\n",
        "    \"Data Science 101\": 2\n",
        "}\n",
        "\n",
        "#aumenta en 1 la cantidad de veces que vio \"Data Science 101\"\n",
        "historial[\"Data Science 101\"] += 1\n",
        "print(historial)\n",
        "\n",
        "#añade la serie \"AI Rebellion\" con 1 visualización\n",
        "historial[\"AI Rebellion\"] = 1\n",
        "print(historial)\n",
        "\n",
        "#elimina \"Machine Love\" del historial\n",
        "del historial[\"Machine Love\"]\n",
        "print(historial)\n",
        "\n",
        "#muestra todas las series que el usuario vio más de 2 veces\n",
        "vistas_mas_2 = [serie for serie, vistas in historial.items() if vistas > 2]\n",
        "print(vistas_mas_2)\n"
      ],
      "metadata": {
        "colab": {
          "base_uri": "https://localhost:8080/"
        },
        "id": "Y1cXU0k116R3",
        "outputId": "9eb0c77f-66dd-4a9d-b242-4d4d74f3aaf5"
      },
      "execution_count": null,
      "outputs": [
        {
          "output_type": "stream",
          "name": "stdout",
          "text": [
            "{'Breaking Python': 3, 'Machine Love': 5, 'Data Science 101': 3}\n",
            "{'Breaking Python': 3, 'Machine Love': 5, 'Data Science 101': 3, 'AI Rebellion': 1}\n",
            "{'Breaking Python': 3, 'Data Science 101': 3, 'AI Rebellion': 1}\n",
            "['Breaking Python', 'Data Science 101']\n"
          ]
        }
      ]
    },
    {
      "cell_type": "markdown",
      "source": [
        "---\n",
        "5. Usuarios únicos por serie (Sets)"
      ],
      "metadata": {
        "id": "BXo3zfmz25MF"
      }
    },
    {
      "cell_type": "code",
      "source": [
        "usuarios_serie_A = {\"ana\", \"luis\", \"pedro\", \"maria\"}\n",
        "usuarios_serie_B = {\"maria\", \"pedro\", \"carla\", \"lucas\"}\n",
        "\n",
        "#usuarios que vieron ambas serie\n",
        "usuarios_ambas = usuarios_serie_A & usuarios_serie_B\n",
        "print(\"Usuarios que vieron ambas series:\", usuarios_ambas)\n",
        "\n",
        "#usuarios que vieron solo la serie A\n",
        "solo_serie_A = usuarios_serie_A - usuarios_serie_B\n",
        "print(\"Usuarios que vieron solo la serie A:\", solo_serie_A)\n",
        "\n",
        "#usuarios unicos que vieron al menos una de las dos\n",
        "usuarios_unicos = usuarios_serie_A | usuarios_serie_B\n",
        "print(\"Usuarios únicos que vieron al menos una:\", usuarios_unicos)\n"
      ],
      "metadata": {
        "colab": {
          "base_uri": "https://localhost:8080/"
        },
        "id": "ckm8ixrx27lC",
        "outputId": "ca471b93-be98-4d6c-a035-725690e5ce2f"
      },
      "execution_count": null,
      "outputs": [
        {
          "output_type": "stream",
          "name": "stdout",
          "text": [
            "Usuarios que vieron ambas series: {'pedro', 'maria'}\n",
            "Usuarios que vieron solo la serie A: {'ana', 'luis'}\n",
            "Usuarios únicos que vieron al menos una: {'luis', 'pedro', 'carla', 'maria', 'lucas', 'ana'}\n"
          ]
        }
      ]
    },
    {
      "cell_type": "markdown",
      "source": [
        "---\n",
        "6. Recomendaciones compartidas (Diccionario + Sets)"
      ],
      "metadata": {
        "id": "xQYOTFP23qiD"
      }
    },
    {
      "cell_type": "code",
      "source": [
        "recomendaciones = {\n",
        "  \"ana\": {\"Machine Love\", \"AI Rebellion\"},\n",
        "  \"luis\": {\"AI Rebellion\", \"Debug Wars\"},\n",
        "  \"pedro\": {\"Debug Wars\", \"Machine Love\"}\n",
        "}\n",
        "\n",
        "#series recomendadas a todos\n",
        "a_todos = recomendaciones[\"ana\"] & recomendaciones[\"luis\"] & recomendaciones[\"pedro\"]\n",
        "print(\"Series recomendadas a todos:\", \"No hay series recomendadas a todos\" if not a_todos else a_todos)\n",
        "\n",
        "\n",
        "#series recomendadas al menos a dos personas\n",
        "todas = list(recomendaciones[\"ana\"]) + list(recomendaciones[\"luis\"]) + list(recomendaciones[\"pedro\"])\n",
        "series_dos = set()\n",
        "for s in todas:\n",
        "    if todas.count(s) >= 2:\n",
        "        series_dos.add(s)\n",
        "print(\"Series recomendadas a al menos dos personas:\", series_dos)\n",
        "\n",
        "\n",
        "#series recomendadas solo a una persona\n",
        "series_una = set()\n",
        "for s in todas:\n",
        "    if todas.count(s) == 1:\n",
        "        series_una.add(s)\n",
        "print(\"Series recomendadas solo a una persona:\", \"No hay series recomendadas solo a una persona\" if not series_una else series_una)\n"
      ],
      "metadata": {
        "colab": {
          "base_uri": "https://localhost:8080/"
        },
        "id": "GFKXx6Hj3fcp",
        "outputId": "697a9108-bf61-4d00-d3eb-c6e7ee4c7448"
      },
      "execution_count": null,
      "outputs": [
        {
          "output_type": "stream",
          "name": "stdout",
          "text": [
            "Series recomendadas a todos: No hay series recomendadas a todos\n",
            "Series recomendadas a al menos dos personas: {'Debug Wars', 'Machine Love', 'AI Rebellion'}\n",
            "Series recomendadas solo a una persona: No hay series recomendadas solo a una persona\n"
          ]
        }
      ]
    },
    {
      "cell_type": "markdown",
      "source": [
        "---\n",
        "7. Transformar ratings (Tuplas + comprensión de diccionario)"
      ],
      "metadata": {
        "id": "V7X0U02r56ZA"
      }
    },
    {
      "cell_type": "code",
      "source": [
        "puntuaciones = [(\"Breaking Python\", 4.0), (\"AI Rebellion\", 5.0), (\"Debug Wars\", 2.0)]\n",
        "\n",
        "diccionario = {}\n",
        "\n",
        "for serie, rating in puntuaciones:\n",
        "    if rating >= 4.5:\n",
        "        diccionario[serie] = \"Excelente\"\n",
        "    elif rating >= 3:\n",
        "        diccionario[serie] = \"Buena\"\n",
        "    else:\n",
        "        diccionario[serie] = \"Regular\"\n",
        "\n",
        "print(diccionario)\n"
      ],
      "metadata": {
        "colab": {
          "base_uri": "https://localhost:8080/"
        },
        "id": "oxWuv1w956rt",
        "outputId": "ebfcb4e2-d70e-4494-9147-bb897f9cdb8d"
      },
      "execution_count": null,
      "outputs": [
        {
          "output_type": "stream",
          "name": "stdout",
          "text": [
            "{'Breaking Python': 'Buena', 'AI Rebellion': 'Excelente', 'Debug Wars': 'Regular'}\n"
          ]
        }
      ]
    },
    {
      "cell_type": "markdown",
      "source": [
        "8. Usuarios y géneros favoritos (Diccionario + slicing)"
      ],
      "metadata": {
        "id": "JgVBM7N46qnY"
      }
    },
    {
      "cell_type": "code",
      "source": [
        "gustos = {\n",
        "  \"ana\": [\"Sci-Fi\", \"Drama\", \"Documental\"],\n",
        "  \"luis\": [\"Comedia\", \"Acción\", \"Sci-Fi\"],\n",
        "  \"pedro\": [\"Drama\", \"Sci-Fi\", \"Romance\"]\n",
        "}\n",
        "\n",
        "#una lista con el primer género favorito de cada usuario\n",
        "primeros_generos = [gustos[usuario][0] for usuario in gustos]\n",
        "print(\"Primer género favorito de cada usuario:\", primeros_generos)\n",
        "\n",
        "\n",
        "#una lista con todos los géneros mencionados sin repeticiones\n",
        "generos_unicos = []\n",
        "for lista in gustos.values():\n",
        "    for genero in lista:\n",
        "        if genero not in generos_unicos:\n",
        "            generos_unicos.append(genero)\n",
        "print(\"Géneros sin repeticiones:\", generos_unicos)\n",
        "\n",
        "\n",
        "#¿Cuál género aparece más veces en la primera posición?\n",
        "primeros_generos = [gustos[usuario][0] for usuario in gustos]\n",
        "conteo = {}\n",
        "for genero in primeros_generos:\n",
        "    if genero not in conteo:\n",
        "        conteo[genero] = 1\n",
        "    else:\n",
        "        conteo[genero] += 1\n",
        "\n",
        "max_veces = max(conteo.values())\n",
        "mas_repetido = [g for g in conteo if conteo[g] == max_veces]\n",
        "print(\"Género(s) más veces en la primera posición:\", mas_repetido)\n",
        "\n"
      ],
      "metadata": {
        "colab": {
          "base_uri": "https://localhost:8080/"
        },
        "id": "HMx0woMp6zZe",
        "outputId": "333c3314-0170-4ccd-cd38-f9483daa0ec4"
      },
      "execution_count": null,
      "outputs": [
        {
          "output_type": "stream",
          "name": "stdout",
          "text": [
            "Primer género favorito de cada usuario: ['Sci-Fi', 'Comedia', 'Drama']\n",
            "Géneros sin repeticiones: ['Sci-Fi', 'Drama', 'Documental', 'Comedia', 'Acción', 'Romance']\n",
            "Género(s) más veces en la primera posición: ['Sci-Fi', 'Comedia', 'Drama']\n"
          ]
        }
      ]
    },
    {
      "cell_type": "markdown",
      "source": [
        "---\n",
        "9. Resumen de votos por serie (Diccionario + listas)"
      ],
      "metadata": {
        "id": "wEJBax7N71m4"
      }
    },
    {
      "cell_type": "code",
      "source": [
        "votos = [(\"Breaking Python\", 5), (\"AI Rebellion\", 4), (\"Breaking Python\", 4), (\"Debug Wars\", 3), (\"AI Rebellion\", 5)]\n",
        "\n",
        "#crear diccionario con listas de votos\n",
        "dic_votos = {}\n",
        "\n",
        "for serie, puntaje in votos:\n",
        "    if serie not in dic_votos:\n",
        "        dic_votos[serie] = []\n",
        "    dic_votos[serie].append(puntaje)\n",
        "\n",
        "print(dic_votos)\n",
        "\n",
        "\n",
        "#calcular el promedio de rating de cada serie\n",
        "for serie in dic_votos:\n",
        "    promedio = sum(dic_votos[serie]) / len(dic_votos[serie])\n",
        "    print(serie, \"-> Promedio:\", promedio)\n"
      ],
      "metadata": {
        "colab": {
          "base_uri": "https://localhost:8080/"
        },
        "id": "-2MkOQ7p73Ts",
        "outputId": "1d62e4aa-d727-4a8b-c3de-1e307dbc09b4"
      },
      "execution_count": null,
      "outputs": [
        {
          "output_type": "stream",
          "name": "stdout",
          "text": [
            "{'Breaking Python': [5, 4], 'AI Rebellion': [4, 5], 'Debug Wars': [3]}\n",
            "Breaking Python -> Promedio: 4.5\n",
            "AI Rebellion -> Promedio: 4.5\n",
            "Debug Wars -> Promedio: 3.0\n"
          ]
        }
      ]
    },
    {
      "cell_type": "markdown",
      "source": [
        "---\n",
        "10. Motor básico de recomendaciones (Integrador)"
      ],
      "metadata": {
        "id": "1eH5Bs-Z8XVA"
      }
    },
    {
      "cell_type": "code",
      "source": [
        "usuario = \"ana\"\n",
        "historial = {\"AI Rebellion\": 3, \"Debug Wars\": 1}\n",
        "catalogo = [\"AI Rebellion\", \"Debug Wars\", \"Machine Love\", \"Data Science 101\"]\n",
        "\n",
        "recomendadas = []\n",
        "for serie in catalogo:\n",
        "    if serie not in historial:\n",
        "        recomendadas.append(serie)\n",
        "\n",
        "print(recomendadas)\n",
        "\n"
      ],
      "metadata": {
        "colab": {
          "base_uri": "https://localhost:8080/"
        },
        "id": "A6mSyJhP8bjt",
        "outputId": "562294f5-9c19-48b2-db3a-871c4c49e88a"
      },
      "execution_count": null,
      "outputs": [
        {
          "output_type": "stream",
          "name": "stdout",
          "text": [
            "['Machine Love', 'Data Science 101']\n"
          ]
        }
      ]
    }
  ]
}