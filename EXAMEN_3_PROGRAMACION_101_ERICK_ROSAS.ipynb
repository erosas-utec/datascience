{
  "nbformat": 4,
  "nbformat_minor": 0,
  "metadata": {
    "colab": {
      "provenance": [],
      "include_colab_link": true
    },
    "kernelspec": {
      "name": "python3",
      "display_name": "Python 3"
    },
    "language_info": {
      "name": "python"
    }
  },
  "cells": [
    {
      "cell_type": "markdown",
      "metadata": {
        "id": "view-in-github",
        "colab_type": "text"
      },
      "source": [
        "<a href=\"https://colab.research.google.com/github/erosas-utec/datascience/blob/main/EXAMEN_3_PROGRAMACION_101_ERICK_ROSAS.ipynb\" target=\"_parent\"><img src=\"https://colab.research.google.com/assets/colab-badge.svg\" alt=\"Open In Colab\"/></a>"
      ]
    },
    {
      "cell_type": "markdown",
      "source": [
        "<img src=\"https://posgrado.utec.edu.pe/sites/default/files/2023-08/Testimonial-home-2.jpg\" alt=\"HTML5 Icon\" width=\"900\" height=\"250\" >"
      ],
      "metadata": {
        "id": "F0pagrVwedlT"
      }
    },
    {
      "cell_type": "markdown",
      "source": [
        "#**Examen Programación 101 – Módulo 3**"
      ],
      "metadata": {
        "id": "n0QIu7WQMANP"
      }
    },
    {
      "cell_type": "markdown",
      "source": [
        "**Contexto:**\n",
        "\n",
        "Estás colaborando con un equipo de analistas que trabaja en el diseño de herramientas básicas para preparar, limpiar y analizar datos antes de que sean utilizados por científicos de datos. Estas herramientas deben ejecutarse en entornos controlados, sin acceso a librerías externas y con requisitos mínimos de procesamiento.\n",
        "\n",
        "Cada ejercicio del examen representa uno de los desafíos que debes resolver como parte del equipo de soporte analítico: desde calcular estadísticas básicas, limpiar entradas de texto, hasta realizar predicciones sencillas con modelos lineales simulados."
      ],
      "metadata": {
        "id": "miMQKZv6MHrC"
      }
    },
    {
      "cell_type": "markdown",
      "source": [
        "\n",
        "\n",
        "**Nombre y Apellido: ERICK ROSAS PISFIL**\n",
        "\n",
        "---"
      ],
      "metadata": {
        "id": "ivo0N7RXM0VM"
      }
    },
    {
      "cell_type": "markdown",
      "source": [
        "Duración: 45 minutos\n"
      ],
      "metadata": {
        "id": "5UN_MQy1M76N"
      }
    },
    {
      "cell_type": "markdown",
      "source": [
        "**Instrucciones**\n",
        "\n",
        "Puedes utilizar:\n",
        "\n",
        "- Definición de funciones (def)\n",
        "\n",
        "- Creación de clases (class)\n",
        "\n",
        "- Listas, strings, diccionarios, operadores, condicionales, bucles\n",
        "\n",
        "- Funciones integradas como sum(), len(), max(), min(), sorted()\n",
        "\n",
        "- No uses pandas, numpy, matplotlib, ni lectura de archivos.\n",
        "\n",
        "Se evaluará no solo la respuesta correcta, sino también la claridad del código, las buenas prácticas (nombres descriptivos, comentarios si es necesario), el uso adecuado de estructuras de datos y la lógica general."
      ],
      "metadata": {
        "id": "JXUtBQpVM_Da"
      }
    },
    {
      "cell_type": "markdown",
      "source": [
        "**Pregunta 1 – Estadística simple**"
      ],
      "metadata": {
        "id": "EpERA8PAN-wz"
      }
    },
    {
      "cell_type": "markdown",
      "source": [
        "Dado el siguiente conjunto de datos:\n",
        "```\n",
        "valores = [12, 17, 15, 21, 17, 18, 15, 19, 21, 17]\n",
        "```\n",
        "Escribe una función resumen_estadistico(lista) que retorne un diccionario con las siguientes claves:\n",
        "\n",
        "- \"promedio\": promedio de los valores\n",
        "\n",
        "- \"min\": valor mínimo\n",
        "\n",
        "- \"max\": valor máximo\n",
        "\n",
        "- \"moda\": valor que más veces se repite en la lista"
      ],
      "metadata": {
        "id": "guv8XWUSOBdx"
      }
    },
    {
      "cell_type": "code",
      "execution_count": 1,
      "metadata": {
        "id": "_R4-sqZ1LhZL",
        "colab": {
          "base_uri": "https://localhost:8080/"
        },
        "outputId": "77cc5a81-0937-413d-b550-722f4948be1c"
      },
      "outputs": [
        {
          "output_type": "stream",
          "name": "stdout",
          "text": [
            "{'promedio': 17.2, 'min': 12, 'max': 21, 'moda': 17}\n"
          ]
        }
      ],
      "source": [
        "# Your code starts here\n",
        "\n",
        "def resumen_estadistico(lista):\n",
        "    \"\"\"Devuelve un diccionario con promedio, mínimo, máximo y moda.\"\"\"\n",
        "    promedio = sum(lista) / len(lista)\n",
        "    minimo = min(lista)\n",
        "    maximo = max(lista)\n",
        "\n",
        "    # Calcular moda\n",
        "    conteos = {}\n",
        "    for valor in lista:\n",
        "        conteos[valor] = conteos.get(valor, 0) + 1\n",
        "    moda = max(conteos, key=conteos.get)\n",
        "\n",
        "    return {\n",
        "        \"promedio\": promedio,\n",
        "        \"min\": minimo,\n",
        "        \"max\": maximo,\n",
        "        \"moda\": moda,\n",
        "    }\n",
        "\n",
        "\n",
        "valores = [12, 17, 15, 21, 17, 18, 15, 19, 21, 17]\n",
        "print(resumen_estadistico(valores))\n",
        "\n",
        "\n",
        "\n",
        "# Your code ends here"
      ]
    },
    {
      "cell_type": "markdown",
      "source": [
        "**Pregunta 2 – Limpieza de texto**"
      ],
      "metadata": {
        "id": "3rV2t5cXOOve"
      }
    },
    {
      "cell_type": "markdown",
      "source": [
        "Tienes la siguiente lista con nombres ingresados de forma inconsistente:\n",
        "```\n",
        "nombres = [\" ana \", \"LUIS\", \"cAmila \", \"JORGE\", \" sofiA\"]\n",
        "```\n",
        "Crea una función normalizar_nombres(lista) que:\n",
        "\n",
        "- Elimine espacios adicionales al inicio o final de cada nombre\n",
        "\n",
        "- Convierta todos los nombres a formato título (por ejemplo: \"Camila\")\n",
        "\n",
        "Devuelve una nueva lista con los nombres normalizados."
      ],
      "metadata": {
        "id": "TLFj-jI-OYwu"
      }
    },
    {
      "cell_type": "code",
      "source": [
        "# Your code starts here\n",
        "\n",
        "def normalizar_nombres(lista):\n",
        "    \"\"\"Recibe una lista de nombres con posibles espacios en blanco y mayúsculas/minúsculas inconsistentes.\n",
        "    Devuelve una nueva lista con:\n",
        "      • Espacios extra eliminados al inicio y final\n",
        "      • Cada nombre en formato título (primera letra en mayúscula, resto en minúscula)\"\"\"\n",
        "    return [nombre.strip().title() for nombre in lista]\n",
        "\n",
        "\n",
        "\n",
        "nombres = [\" ana \", \"LUIS\", \"cAmila \", \"JORGE\", \" sofiA\"]\n",
        "nombres_normalizados = normalizar_nombres(nombres)\n",
        "print(nombres_normalizados)\n",
        "\n",
        "\n",
        "\n",
        "# Your code ends here"
      ],
      "metadata": {
        "id": "Yeuwf3fWOftV",
        "colab": {
          "base_uri": "https://localhost:8080/"
        },
        "outputId": "ce98be05-5255-4c0c-e55d-601a9a3eba04"
      },
      "execution_count": 3,
      "outputs": [
        {
          "output_type": "stream",
          "name": "stdout",
          "text": [
            "['Ana', 'Luis', 'Camila', 'Jorge', 'Sofia']\n"
          ]
        }
      ]
    },
    {
      "cell_type": "markdown",
      "source": [
        "**Pregunta 3 – Clasificador por edad**"
      ],
      "metadata": {
        "id": "qzum0ADEOk-a"
      }
    },
    {
      "cell_type": "markdown",
      "source": [
        "Crea una clase ClasificadorEdad con un atributo edad.\n",
        "La clase debe tener un método:\n",
        "\n",
        "clasificar() -> str\n",
        "Que devuelva según la edad:\n",
        "\n",
        "- \"Niño\" si es menor de 13\n",
        "\n",
        "- \"Adolescente\" si tiene entre 13 y 17 años\n",
        "\n",
        "- \"Adulto\" si tiene entre 18 y 59 años\n",
        "\n",
        "- \"Adulto mayor\" si tiene 60 o más"
      ],
      "metadata": {
        "id": "xS7revZCOoZ1"
      }
    },
    {
      "cell_type": "code",
      "source": [
        "# Your code starts here\n",
        "\n",
        "class ClasificadorEdad:\n",
        "    \"\"\"Clasifica a una persona según su edad.\"\"\"\n",
        "\n",
        "    def __init__(self, edad):\n",
        "        self.edad = edad\n",
        "\n",
        "    def clasificar(self) -> str:\n",
        "        \"\"\"Devuelve la categoría correspondiente a la edad.\"\"\"\n",
        "        if self.edad < 13:\n",
        "            return \"Niño\"\n",
        "        elif 13 <= self.edad <= 17:\n",
        "            return \"Adolescente\"\n",
        "        elif 18 <= self.edad <= 59:\n",
        "            return \"Adulto\"\n",
        "        else:\n",
        "            return \"Adulto mayor\"\n",
        "\n",
        "\n",
        "\n",
        "if __name__ == \"__main__\":\n",
        "    try:\n",
        "        edad_usuario = int(input(\"Ingresa tu edad: \"))\n",
        "        clasificador = ClasificadorEdad(edad_usuario)\n",
        "        print(clasificador.clasificar())\n",
        "    except ValueError:\n",
        "        print(\"Por favor ingresa un número entero válido.\")\n",
        "\n",
        "\n",
        "\n",
        "\n",
        "# Your code ends here"
      ],
      "metadata": {
        "id": "TEedziL-Oosu",
        "colab": {
          "base_uri": "https://localhost:8080/"
        },
        "outputId": "f778237d-9e39-4a9d-a12d-1ed6896573f1"
      },
      "execution_count": 8,
      "outputs": [
        {
          "output_type": "stream",
          "name": "stdout",
          "text": [
            "Ingresa tu edad: 29\n",
            "Adulto\n"
          ]
        }
      ]
    },
    {
      "cell_type": "markdown",
      "source": [
        "**Pregunta 4 – Palabras clave en encuestas**"
      ],
      "metadata": {
        "id": "O7K1bCleO3du"
      }
    },
    {
      "cell_type": "markdown",
      "source": [
        "Tienes una lista con respuestas abiertas de una encuesta:\n",
        "```\n",
        "respuestas = [\n",
        "    \"Me gusta la visualización de datos\",\n",
        "    \"La estadística es clave\",\n",
        "    \"Aprender programación mejora la productividad\",\n",
        "    \"Los gráficos me ayudan a entender\"]\n",
        "```\n",
        "Crea una función contar_palabras_clave(respuestas: list, palabra: str) que:\n",
        "\n",
        "- Retorne cuántas frases contienen la palabra dada, sin importar mayúsculas o minúsculas.\n",
        "\n",
        "Ejemplo:\n",
        "contar_palabras_clave(respuestas, \"datos\") → 1\n",
        "\n"
      ],
      "metadata": {
        "id": "Y7kadRyfPBG_"
      }
    },
    {
      "cell_type": "code",
      "source": [
        "# Your code starts here\n",
        "\n",
        "def contar_palabras_clave(respuestas: list, palabra: str) -> int:\n",
        "    \"\"\"Cuenta cuántas frases contienen la palabra indicada,\n",
        "    ignorando mayúsculas y minúsculas\"\"\"\n",
        "    palabra = palabra.lower()\n",
        "    contador = 0\n",
        "    for frase in respuestas:\n",
        "        if palabra in frase.lower():\n",
        "            contador += 1\n",
        "    return contador\n",
        "\n",
        "\n",
        "if __name__ == \"__main__\":\n",
        "    respuestas = [\n",
        "        \"Me gusta la visualización de datos\",\n",
        "        \"La estadística es clave\",\n",
        "        \"Aprender programación mejora la productividad\",\n",
        "        \"Los gráficos me ayudan a entender\"\n",
        "    ]\n",
        "\n",
        "    palabra_busqueda = input(\"Ingresa la palabra que deseas buscar: \").strip()\n",
        "    resultado = contar_palabras_clave(respuestas, palabra_busqueda)\n",
        "    print(f'La palabra \"{palabra_busqueda}\" aparece en {resultado} frase(s).')\n",
        "\n",
        "\n",
        "\n",
        "\n",
        "\n",
        "# Your code ends here"
      ],
      "metadata": {
        "id": "4WP3pEgvOuMd",
        "colab": {
          "base_uri": "https://localhost:8080/"
        },
        "outputId": "dc5c8d44-c97c-40a8-c484-ee066be66c75"
      },
      "execution_count": 10,
      "outputs": [
        {
          "output_type": "stream",
          "name": "stdout",
          "text": [
            "Ingresa la palabra que deseas buscar: Me\n",
            "La palabra \"Me\" aparece en 3 frase(s).\n"
          ]
        }
      ]
    },
    {
      "cell_type": "markdown",
      "source": [
        "**Pregunta 5 – Validación de códigos de experimento**"
      ],
      "metadata": {
        "id": "MdencFSGPmo1"
      }
    },
    {
      "cell_type": "markdown",
      "source": [
        "Tienes una lista con códigos de experimento ingresados por diferentes usuarios:\n",
        "\n",
        "```\n",
        "codigos = [\"EXP2023A\", \"EXP_23\", \"EXPERIMENTO_2023\", \"exp2023b\"]\n",
        "```\n",
        "\n",
        "Crea una función validar_codigos(lista) que retorne una nueva lista con los códigos válidos, donde:\n",
        "\n",
        "- Empiecen por \"EXP\" (en mayúsculas)\n",
        "\n",
        "- Tengan exactamente 8 caracteres"
      ],
      "metadata": {
        "id": "KBMve8sQPp8J"
      }
    },
    {
      "cell_type": "code",
      "source": [
        "# Your code starts here\n",
        "\n",
        "def validar_codigos(lista):\n",
        "    \"\"\"Devuelve una lista de códigos válidos según las reglas:\n",
        "      • Empiezan por 'EXP' (mayúsculas).\n",
        "      • Tienen exactamente 8 caracteres de longitud\"\"\"\n",
        "    codigos_validos = []\n",
        "    for codigo in lista:\n",
        "        if codigo.startswith(\"EXP\") and len(codigo) == 8:\n",
        "            codigos_validos.append(codigo)\n",
        "    return codigos_validos\n",
        "\n",
        "\n",
        "\n",
        "codigos = [\"EXP2023A\", \"EXP_23\", \"EXPERIMENTO_2023\", \"exp2023b\"]\n",
        "print(validar_codigos(codigos))\n",
        "\n",
        "\n",
        "\n",
        "\n",
        "# Your code ends here"
      ],
      "metadata": {
        "id": "SUaTp_yjO24X",
        "colab": {
          "base_uri": "https://localhost:8080/"
        },
        "outputId": "29ac0f77-99c0-435f-d39a-83b9fe5b83b9"
      },
      "execution_count": 11,
      "outputs": [
        {
          "output_type": "stream",
          "name": "stdout",
          "text": [
            "['EXP2023A']\n"
          ]
        }
      ]
    },
    {
      "cell_type": "markdown",
      "source": [
        "**Pregunta 6 – Modelo lineal simple**"
      ],
      "metadata": {
        "id": "U3NjngoxPyv9"
      }
    },
    {
      "cell_type": "markdown",
      "source": [
        "Crea una clase ModeloLineal que simule un modelo de regresión con fórmula:\n",
        "```\n",
        "y = m * x + b\n",
        "```\n",
        "\n",
        "La clase debe tener:\n",
        "\n",
        "Atributos: m (pendiente), b (intercepto)\n",
        "\n",
        "\n",
        "Método predecir(x) que:\n",
        "\n",
        "- Si x es un número, devuelve la predicción correspondiente\n",
        "\n",
        "- Si x es una lista de números, devuelve una lista de predicciones\n",
        "\n",
        "\n",
        "Ejemplo:\n",
        "```\n",
        "modelo = ModeloLineal(2, 3)\n",
        "modelo.predecir([1, 2, 3])  #debe retornar [5, 7, 9]\n",
        "```"
      ],
      "metadata": {
        "id": "_N3vpCZkP1sr"
      }
    },
    {
      "cell_type": "code",
      "source": [
        "# Your code starts here\n",
        "\n",
        "class ModeloLineal:\n",
        "    \"\"\"y = m * x + b\"\"\"\n",
        "\n",
        "    def __init__(self, m, b):\n",
        "        self.m = m\n",
        "        self.b = b\n",
        "\n",
        "    def predecir(self, x):\n",
        "        # Número individual\n",
        "        if isinstance(x, (int, float)):\n",
        "            return self.m * x + self.b\n",
        "\n",
        "        # Lista de números\n",
        "        if isinstance(x, list):\n",
        "            return [self.m * xi + self.b for xi in x if isinstance(xi, (int, float))]\n",
        "\n",
        "        # Caso no válido\n",
        "        return None\n",
        "\n",
        "\n",
        "\n",
        "modelo = ModeloLineal(2, 3)\n",
        "print(modelo.predecir([1, 2, 3]))  # [5, 7, 9]\n",
        "print(modelo.predecir(4))          # 11\n",
        "print(modelo.predecir(\"texto\"))    # None\n",
        "\n",
        "\n",
        "\n",
        "# Your code ends here"
      ],
      "metadata": {
        "id": "18nXnIMEQhKS",
        "colab": {
          "base_uri": "https://localhost:8080/"
        },
        "outputId": "38284156-4f7d-41a2-f4f5-0b1895894933"
      },
      "execution_count": 12,
      "outputs": [
        {
          "output_type": "stream",
          "name": "stdout",
          "text": [
            "[5, 7, 9]\n",
            "11\n",
            "None\n"
          ]
        }
      ]
    },
    {
      "cell_type": "markdown",
      "source": [
        "---\n",
        "\n",
        "### Gracias por completar este examen!\n",
        "\n",
        "---\n"
      ],
      "metadata": {
        "id": "LtljlM9cQkiT"
      }
    }
  ]
}