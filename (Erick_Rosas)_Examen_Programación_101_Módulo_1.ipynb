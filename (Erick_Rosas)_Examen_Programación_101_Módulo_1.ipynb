{
  "nbformat": 4,
  "nbformat_minor": 0,
  "metadata": {
    "colab": {
      "provenance": [],
      "include_colab_link": true
    },
    "kernelspec": {
      "name": "python3",
      "display_name": "Python 3"
    },
    "language_info": {
      "name": "python"
    }
  },
  "cells": [
    {
      "cell_type": "markdown",
      "metadata": {
        "id": "view-in-github",
        "colab_type": "text"
      },
      "source": [
        "<a href=\"https://colab.research.google.com/github/erosas-utec/datascience/blob/main/(Erick_Rosas)_Examen_Programaci%C3%B3n_101_M%C3%B3dulo_1.ipynb\" target=\"_parent\"><img src=\"https://colab.research.google.com/assets/colab-badge.svg\" alt=\"Open In Colab\"/></a>"
      ]
    },
    {
      "cell_type": "markdown",
      "source": [
        "<img src=\"https://posgrado.utec.edu.pe/sites/default/files/2023-08/Testimonial-home-2.jpg\" alt=\"HTML5 Icon\" width=\"900\" height=\"250\" >\n"
      ],
      "metadata": {
        "id": "ub41hbIV6UQ6"
      }
    },
    {
      "cell_type": "markdown",
      "source": [
        "**texto en negrita**#**Examen Programación 101 – Módulo 1**\n"
      ],
      "metadata": {
        "id": "zpZSxKDI51_7"
      }
    },
    {
      "cell_type": "markdown",
      "source": [
        "**Contexto**\n",
        "\n",
        "Estás colaborando en el diseño de un sistema básico de autenticación y validación de datos para una empresa tecnológica en expansión. El sistema debe realizar verificaciones fundamentales sobre usuarios, contraseñas, códigos de acceso e identificadores, utilizando únicamente estructuras condicionales y operaciones básicas, dado que el prototipo está pensado para funcionar en dispositivos con capacidad de cómputo muy limitada.\n",
        "\n",
        "Cada pregunta del examen representa uno de los desafíos que debes resolver en este sistema: desde validar un código, clasificar niveles de acceso, hasta verificar si una entrada cumple con múltiples criterios simultáneamente."
      ],
      "metadata": {
        "id": "qphDGB6eAe-K"
      }
    },
    {
      "cell_type": "markdown",
      "source": [
        "\n",
        "\n",
        "**Nombre y Apellido: Erick Rosas**\n",
        "\n",
        "---"
      ],
      "metadata": {
        "id": "_MYFZY5D97r5"
      }
    },
    {
      "cell_type": "markdown",
      "source": [
        "Duración: 45 minutos\n",
        "\n",
        "**Instrucciones**\n",
        "\n",
        "1. No está permitido el uso de funciones (def), bucles (for, while)\n",
        "\n",
        "2. Puedes utilizar:\n",
        "\n",
        "  * Asignación de variables\n",
        "  * Operadores aritméticos y lógicos\n",
        "  * Condicionales (if, elif, else)\n",
        "  * Funciones input() y print()\n",
        "\n",
        "3. Se evaluará no solo la respuesta correcta, sino también la claridad, buenas prácticas, uso correcto de tipos de datos y estructura lógica.\n",
        "\n",
        "---"
      ],
      "metadata": {
        "id": "VInsS6-u7MUH"
      }
    },
    {
      "cell_type": "markdown",
      "source": [
        "**Pregunta 1: Validación de Usuario**\n"
      ],
      "metadata": {
        "id": "xVGPY6H68IO_"
      }
    },
    {
      "cell_type": "markdown",
      "source": [
        "Escribe un programa que valide un usuario según estas reglas:\n",
        "\n",
        "* El usuario debe tener exactamente 5 caracteres.\n",
        "* El primer carácter debe ser mayúscula.\n",
        "* El último carácter debe ser un número.\n",
        "\n",
        "Imprime \"Usuario válido\" o \"Usuario inválido\" según corresponda."
      ],
      "metadata": {
        "id": "2mSAVboy8Q6m"
      }
    },
    {
      "cell_type": "code",
      "execution_count": 4,
      "metadata": {
        "id": "mOSniL8V5jR4",
        "colab": {
          "base_uri": "https://localhost:8080/"
        },
        "outputId": "9d32f920-d25a-4d9c-9aa1-7f0b5ce3c182"
      },
      "outputs": [
        {
          "output_type": "stream",
          "name": "stdout",
          "text": [
            "Ingrese su usuario: A12b4\n",
            "Usuario válido\n"
          ]
        }
      ],
      "source": [
        "# Your code starts here\n",
        "# user_example: usuario = \"A12b4\"\n",
        "\n",
        "usuario = input(\"Ingrese su usuario: \")\n",
        "\n",
        "# Longitud requerida\n",
        "longitud_correcta = len(usuario) == 5\n",
        "\n",
        "# Verificamos si el primer carácter es una letra mayúscula\n",
        "primer_caracter_mayuscula = False\n",
        "if len(usuario) > 0:\n",
        "    primer_caracter_mayuscula = usuario[0].isupper()\n",
        "\n",
        "# Verificamos si el último carácter es un número\n",
        "ultimo_caracter_numero = False\n",
        "if len(usuario) > 0:\n",
        "    ultimo_caracter_numero = usuario[-1].isdigit()\n",
        "\n",
        "# Validamos todas las condiciones\n",
        "if longitud_correcta and primer_caracter_mayuscula and ultimo_caracter_numero:\n",
        "    print(\"Usuario válido\")\n",
        "else:\n",
        "    print(\"Usuario inválido\")\n",
        "\n",
        "\n",
        "\n",
        "# Your code ends here"
      ]
    },
    {
      "cell_type": "markdown",
      "source": [
        "**Pregunta 2: Nivel de Seguridad Numérico**\n",
        "\n",
        "Pide tres dígitos separados al usuario usando input(). Luego:\n",
        "\n",
        "* Imprime \"ALTO\" si los tres dígitos son diferentes.\n",
        "* Imprime \"MEDIO\" si solo dos son iguales.\n",
        "* Imprime \"BAJO\" si los tres son iguales."
      ],
      "metadata": {
        "id": "ZI1HrCRe8uU6"
      }
    },
    {
      "cell_type": "code",
      "source": [
        "# Your code starts here\n",
        "\n",
        "\n",
        "digito1 = input(\"Ingrese el primer dígito: \")\n",
        "digito2 = input(\"Ingrese el segundo dígito: \")\n",
        "digito3 = input(\"Ingrese el tercer dígito: \")\n",
        "\n",
        "# Verificamos las condiciones de igualdad entre dígitos\n",
        "if digito1 == digito2 and digito2 == digito3:\n",
        "    #si los tres dígitos son iguales\n",
        "    print(\"BAJO\")\n",
        "elif digito1 == digito2 or digito1 == digito3 or digito2 == digito3:\n",
        "    #si solo dos dígitos son iguales\n",
        "    print(\"MEDIO\")\n",
        "else:\n",
        "    #si los tres dígitos son diferentes\n",
        "    print(\"ALTO\")\n",
        "\n",
        "\n",
        "\n",
        "# Your code ends here"
      ],
      "metadata": {
        "id": "hEUnfNCK88lF",
        "colab": {
          "base_uri": "https://localhost:8080/"
        },
        "outputId": "99094439-6ea0-43a4-c65b-c9d61ed4170c"
      },
      "execution_count": 6,
      "outputs": [
        {
          "output_type": "stream",
          "name": "stdout",
          "text": [
            "Ingrese el primer dígito: 5\n",
            "Ingrese el segundo dígito: 4\n",
            "Ingrese el tercer dígito: 3\n",
            "ALTO\n"
          ]
        }
      ]
    },
    {
      "cell_type": "markdown",
      "source": [
        "**Pregunta 3: Código de Acceso**\n",
        "\n",
        "Pide al usuario ingresar un número entero de tres dígitos.\n",
        "Verifica si la suma de sus tres dígitos es exactamente 10:\n",
        "\n",
        "* Si lo es, imprime \"Código válido\".\n",
        "* Si no, imprime \"Código inválido\"."
      ],
      "metadata": {
        "id": "DaAUaft_9DMe"
      }
    },
    {
      "cell_type": "code",
      "source": [
        "# Your code starts here\n",
        "\n",
        "\n",
        "codigo = input(\"Ingrese un código de tres dígitos: \")\n",
        "\n",
        "#verificamos que el código tenga exactamente 3 dígitos\n",
        "if len(codigo) == 3 and codigo.isdigit():\n",
        "   # Extraemos cada dígito\n",
        "   digito1 = int(codigo[0])\n",
        "   digito2 = int(codigo[1])\n",
        "   digito3 = int(codigo[2])\n",
        "\n",
        "   #calculamos la suma de los dígitos\n",
        "   suma_digitos = digito1 + digito2 + digito3\n",
        "\n",
        "   #verificamos si la suma es exactamente 10\n",
        "   if suma_digitos == 10:\n",
        "       print(\"Código válido\")\n",
        "   else:\n",
        "       print(\"Código inválido\")\n",
        "else:\n",
        "   print(\"Código inválido\")\n",
        "\n",
        "\n",
        "# Your code ends here"
      ],
      "metadata": {
        "id": "Xa15jei89HaU",
        "colab": {
          "base_uri": "https://localhost:8080/"
        },
        "outputId": "d42f6ffe-2f75-4ef4-ddad-2f36469653d5"
      },
      "execution_count": 8,
      "outputs": [
        {
          "output_type": "stream",
          "name": "stdout",
          "text": [
            "Ingrese un código de tres dígitos: 541\n",
            "Código válido\n"
          ]
        }
      ]
    },
    {
      "cell_type": "markdown",
      "source": [
        "**Pregunta 4: Identificador de carácter**\n",
        "\n",
        "Pide al usuario un solo carácter y determina:\n",
        "\n",
        "* Si es vocal minúscula → \"Vocal minúscula\"\n",
        "* Si es vocal mayúscula → \"Vocal MAYÚSCULA\"\n",
        "* Si es número → \"Número\"\n",
        "* En cualquier otro caso → \"Símbolo especial\""
      ],
      "metadata": {
        "id": "zHCprzaP9fpB"
      }
    },
    {
      "cell_type": "code",
      "source": [
        "# Your code starts here\n",
        "\n",
        "\n",
        "caracter = input(\"Ingrese un solo carácter: \")\n",
        "\n",
        "# Verificamos que sea un solo carácter\n",
        "if len(caracter) == 1:\n",
        "   #definimos las vocales en minúscula y mayúscula\n",
        "   vocales_minusculas = \"aeiou\"\n",
        "   vocales_mayusculas = \"AEIOU\"\n",
        "\n",
        "   #vocal minúscula\n",
        "   if caracter in vocales_minusculas:\n",
        "       print(\"Vocal minúscula\")\n",
        "   #vocal mayúscula\n",
        "   elif caracter in vocales_mayusculas:\n",
        "       print(\"Vocal MAYÚSCULA\")\n",
        "   #si es un número\n",
        "   elif caracter.isdigit():\n",
        "       print(\"Número\")\n",
        "   #si no es ninguno de los anteriores\n",
        "   else:\n",
        "       print(\"Símbolo especial\")\n",
        "else:\n",
        "   print(\"Por favor, ingrese un solo carácter\")\n",
        "\n",
        "\n",
        "# Your code ends here"
      ],
      "metadata": {
        "id": "OvCpLVUT92uZ",
        "colab": {
          "base_uri": "https://localhost:8080/"
        },
        "outputId": "5f319d52-8eae-48ac-b15e-d5d6654af270"
      },
      "execution_count": 12,
      "outputs": [
        {
          "output_type": "stream",
          "name": "stdout",
          "text": [
            "Ingrese un solo carácter: #\n",
            "Símbolo especial\n"
          ]
        }
      ]
    },
    {
      "cell_type": "markdown",
      "source": [
        "**Pregunta 5: Verificación cruzada de identidad**\n",
        "\n",
        "Un sistema de validación recibe los siguientes tres datos como entrada:\n",
        "\n",
        "\n",
        "1. Un código de 6 caracteres (ej. \"A1b2C3\")\n",
        "2. Un número de 3 cifras (ej. 528)\n",
        "3. Una letra (ej. \"b\")\n",
        "\n",
        "El programa debe:\n",
        "\n",
        "* Verificar si:\n",
        "\n",
        "  1. El primer carácter del código es una letra mayúscula,\n",
        "  2. El último carácter del código es un número,\n",
        "  3. La suma de los tres dígitos del número es par, y\n",
        "  4. La letra ingresada se encuentra dentro del código sin distinguir mayúsculas/minúsculas.\n",
        "\n",
        "* Si todas las condiciones se cumplen, imprimir: \"Identidad verificada\"\n",
        "\n",
        "* Si alguna no se cumple, imprimir: \"Acceso denegado\""
      ],
      "metadata": {
        "id": "FJyAxh0I-0N8"
      }
    },
    {
      "cell_type": "code",
      "source": [
        "# Your code starts here\n",
        "\n",
        "\n",
        "codigo = input(\"Ingrese un código de 6 caracteres: \")\n",
        "numero = input(\"Ingrese un número de 3 cifras: \")\n",
        "letra = input(\"Ingrese una letra: \")\n",
        "\n",
        "# Verificamos condiciones una por una\n",
        "condicion1 = False\n",
        "condicion2 = False\n",
        "condicion3 = False\n",
        "condicion4 = False\n",
        "\n",
        "# Verificamos longitudes correctas\n",
        "if len(codigo) == 6 and len(numero) == 3 and numero.isdigit() and len(letra) == 1:\n",
        "    #primer carácter es letra mayúscula\n",
        "    if codigo[0].isupper():\n",
        "        condicion1 = True\n",
        "\n",
        "    #ultimo carácter es número\n",
        "    if codigo[5].isdigit():\n",
        "        condicion2 = True\n",
        "\n",
        "    #suma de dígitos es par\n",
        "    digito1 = int(numero[0])\n",
        "    digito2 = int(numero[1])\n",
        "    digito3 = int(numero[2])\n",
        "    suma = digito1 + digito2 + digito3\n",
        "    if suma % 2 == 0:\n",
        "        condicion3 = True\n",
        "\n",
        "    #letra existe\n",
        "    codigo_minuscula = codigo.lower()\n",
        "    letra_minuscula = letra.lower()\n",
        "    if letra_minuscula in codigo_minuscula:\n",
        "        condicion4 = True\n",
        "\n",
        "# Verificación\n",
        "if condicion1 and condicion2 and condicion3 and condicion4:\n",
        "    print(\"Identidad verificada\")\n",
        "else:\n",
        "    print(\"Acceso denegado\")\n",
        "\n",
        "\n",
        "# Your code ends here"
      ],
      "metadata": {
        "id": "Z16sSPRc_TDH",
        "colab": {
          "base_uri": "https://localhost:8080/"
        },
        "outputId": "00d3d0a5-f28a-453e-e4a8-4ff5778ceeb6"
      },
      "execution_count": 17,
      "outputs": [
        {
          "output_type": "stream",
          "name": "stdout",
          "text": [
            "Ingrese un código de 6 caracteres: A1b2C3\n",
            "Ingrese un número de 3 cifras: 222\n",
            "Ingrese una letra: b\n",
            "Identidad verificada\n"
          ]
        }
      ]
    },
    {
      "cell_type": "markdown",
      "source": [
        "---\n",
        "\n",
        "### Gracias por completar este examen!\n",
        "\n",
        "---\n"
      ],
      "metadata": {
        "id": "vWNdqa91-NiX"
      }
    }
  ]
}